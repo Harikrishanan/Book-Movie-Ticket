{
 "cells": [
  {
   "cell_type": "code",
   "execution_count": 1,
   "id": "celtic-alliance",
   "metadata": {},
   "outputs": [
    {
     "name": "stdout",
     "output_type": "stream",
     "text": [
      "hello world\n"
     ]
    }
   ],
   "source": [
    "print('hello world')"
   ]
  },
  {
   "cell_type": "code",
   "execution_count": 20,
   "id": "quarterly-colombia",
   "metadata": {},
   "outputs": [],
   "source": [
    "x=[1,2,3,66,'a',56,'b',76,'c',45,56,33,4455,343,2,3,4,2,]\n",
    "for y in x:\n",
    "    if y==int() and y>6:\n",
    "        print(y)\n"
   ]
  },
  {
   "cell_type": "code",
   "execution_count": 15,
   "id": "reverse-legend",
   "metadata": {},
   "outputs": [
    {
     "name": "stdout",
     "output_type": "stream",
     "text": [
      "MOMO I LOVE YOU\n"
     ]
    }
   ],
   "source": [
    "print('MOMO I LOVE YOU')"
   ]
  },
  {
   "cell_type": "code",
   "execution_count": 23,
   "id": "dietary-asbestos",
   "metadata": {},
   "outputs": [
    {
     "name": "stdout",
     "output_type": "stream",
     "text": [
      "Enter an integer11\n",
      "11 @ 1 > 11\n",
      "11 @ 2 > 22\n",
      "11 @ 3 > 33\n",
      "11 @ 4 > 44\n",
      "11 @ 5 > 55\n",
      "11 @ 6 > 66\n",
      "11 @ 7 > 77\n",
      "11 @ 8 > 88\n",
      "11 @ 9 > 99\n",
      "11 @ 10 > 110\n"
     ]
    }
   ],
   "source": [
    "number= int(input('Enter an integer'))\n",
    "\n",
    "for sequence in range(1,11):\n",
    "    product= number*sequence\n",
    "    print(number, '@',sequence,'>',product)"
   ]
  },
  {
   "cell_type": "code",
   "execution_count": 27,
   "id": "respective-burning",
   "metadata": {},
   "outputs": [
    {
     "name": "stdout",
     "output_type": "stream",
     "text": [
      "False\n"
     ]
    }
   ],
   "source": [
    "print(\"Y\" in \"Python\")"
   ]
  },
  {
   "cell_type": "code",
   "execution_count": 3,
   "id": "aware-discipline",
   "metadata": {},
   "outputs": [
    {
     "name": "stdout",
     "output_type": "stream",
     "text": [
      "[3.0]\n"
     ]
    }
   ],
   "source": [
    "x= 100\n",
    "y= 200\n",
    "z= 500\n",
    "a= ([z+x]/y)\n",
    "\n",
    "print(a)"
   ]
  },
  {
   "cell_type": "code",
   "execution_count": 28,
   "id": "mighty-western",
   "metadata": {},
   "outputs": [
    {
     "name": "stdout",
     "output_type": "stream",
     "text": [
      "4\n"
     ]
    }
   ],
   "source": [
    "print(9//2)"
   ]
  },
  {
   "cell_type": "code",
   "execution_count": 7,
   "id": "naked-fishing",
   "metadata": {},
   "outputs": [
    {
     "name": "stdout",
     "output_type": "stream",
     "text": [
      "<class 'list'>\n"
     ]
    }
   ],
   "source": [
    "print(type(a))"
   ]
  },
  {
   "cell_type": "code",
   "execution_count": 9,
   "id": "incomplete-bandwidth",
   "metadata": {},
   "outputs": [
    {
     "name": "stdout",
     "output_type": "stream",
     "text": [
      "[3.0]\n"
     ]
    }
   ],
   "source": [
    "x= 100\n",
    "y= 200\n",
    "z= 500\n",
    "a= [(z+x)/y]\n",
    "\n",
    "print(a)"
   ]
  },
  {
   "cell_type": "code",
   "execution_count": 10,
   "id": "middle-pressure",
   "metadata": {},
   "outputs": [
    {
     "name": "stdout",
     "output_type": "stream",
     "text": [
      "<class 'list'>\n"
     ]
    }
   ],
   "source": [
    "print(type(a))\n"
   ]
  },
  {
   "cell_type": "code",
   "execution_count": 13,
   "id": "dangerous-medline",
   "metadata": {},
   "outputs": [],
   "source": [
    "#happy learning"
   ]
  },
  {
   "cell_type": "code",
   "execution_count": 14,
   "id": "funky-carter",
   "metadata": {},
   "outputs": [],
   "source": [
    "x= [10,20,500,3434.33, 'hari','momo']"
   ]
  },
  {
   "cell_type": "code",
   "execution_count": 15,
   "id": "first-commerce",
   "metadata": {},
   "outputs": [
    {
     "name": "stdout",
     "output_type": "stream",
     "text": [
      "[10, 20, 500, 3434.33, 'hari', 'momo']\n"
     ]
    }
   ],
   "source": [
    "print(x)"
   ]
  },
  {
   "cell_type": "code",
   "execution_count": 16,
   "id": "steady-tiger",
   "metadata": {},
   "outputs": [
    {
     "data": {
      "text/plain": [
       "list"
      ]
     },
     "execution_count": 16,
     "metadata": {},
     "output_type": "execute_result"
    }
   ],
   "source": [
    "type(x)"
   ]
  },
  {
   "cell_type": "code",
   "execution_count": 17,
   "id": "worldwide-warrior",
   "metadata": {},
   "outputs": [
    {
     "name": "stdout",
     "output_type": "stream",
     "text": [
      "<class 'list'>\n"
     ]
    }
   ],
   "source": [
    "print(type(x))"
   ]
  },
  {
   "cell_type": "code",
   "execution_count": 18,
   "id": "blocked-travel",
   "metadata": {},
   "outputs": [
    {
     "data": {
      "text/plain": [
       "dict"
      ]
     },
     "execution_count": 18,
     "metadata": {},
     "output_type": "execute_result"
    }
   ],
   "source": [
    "xdict= {'hari':'male', 'momo':'female'}\n",
    "type(xdict)"
   ]
  },
  {
   "cell_type": "code",
   "execution_count": 19,
   "id": "first-store",
   "metadata": {},
   "outputs": [
    {
     "name": "stdout",
     "output_type": "stream",
     "text": [
      "{'hari': 'male', 'momo': 'female'}\n"
     ]
    }
   ],
   "source": [
    "print(xdict)"
   ]
  },
  {
   "cell_type": "code",
   "execution_count": 24,
   "id": "adjusted-blind",
   "metadata": {},
   "outputs": [
    {
     "name": "stdout",
     "output_type": "stream",
     "text": [
      "male\n"
     ]
    }
   ],
   "source": [
    "print(xdict['hari'])"
   ]
  },
  {
   "cell_type": "code",
   "execution_count": 28,
   "id": "polyphonic-receiver",
   "metadata": {},
   "outputs": [
    {
     "name": "stdout",
     "output_type": "stream",
     "text": [
      "{1, 2, 3, 'ahsdh', 22, 'hsvch'}\n"
     ]
    }
   ],
   "source": [
    "x= {1,22,2,2,2,1,2,3,1,1,1,'ahsdh','hsvch'}\n",
    "print(x)"
   ]
  },
  {
   "cell_type": "code",
   "execution_count": 29,
   "id": "quiet-action",
   "metadata": {},
   "outputs": [
    {
     "data": {
      "text/plain": [
       "set"
      ]
     },
     "execution_count": 29,
     "metadata": {},
     "output_type": "execute_result"
    }
   ],
   "source": [
    "type(x)"
   ]
  },
  {
   "cell_type": "code",
   "execution_count": 30,
   "id": "occupational-wednesday",
   "metadata": {},
   "outputs": [
    {
     "ename": "TypeError",
     "evalue": "'set' object does not support item assignment",
     "output_type": "error",
     "traceback": [
      "\u001b[1;31m---------------------------------------------------------------------------\u001b[0m",
      "\u001b[1;31mTypeError\u001b[0m                                 Traceback (most recent call last)",
      "\u001b[1;32m<ipython-input-30-a051f148d975>\u001b[0m in \u001b[0;36m<module>\u001b[1;34m\u001b[0m\n\u001b[1;32m----> 1\u001b[1;33m \u001b[0mx\u001b[0m\u001b[1;33m[\u001b[0m\u001b[1;36m5\u001b[0m\u001b[1;33m]\u001b[0m\u001b[1;33m=\u001b[0m \u001b[1;36m9\u001b[0m\u001b[1;33m\u001b[0m\u001b[1;33m\u001b[0m\u001b[0m\n\u001b[0m\u001b[0;32m      2\u001b[0m \u001b[0mprint\u001b[0m\u001b[1;33m(\u001b[0m\u001b[0mx\u001b[0m\u001b[1;33m)\u001b[0m\u001b[1;33m\u001b[0m\u001b[1;33m\u001b[0m\u001b[0m\n",
      "\u001b[1;31mTypeError\u001b[0m: 'set' object does not support item assignment"
     ]
    }
   ],
   "source": [
    "x[5]= 9\n",
    "print(x)"
   ]
  },
  {
   "cell_type": "code",
   "execution_count": null,
   "id": "outstanding-stable",
   "metadata": {},
   "outputs": [],
   "source": [
    "print('Hari: Will you date me? ')\n",
    "\n",
    "reply = 'yes'\n",
    "print('MOMO: Yes')\n",
    "\n",
    "if reply == 'yes':\n",
    "    print('Okay punnu, Lets book CCD')\n",
    "    reply2= 'ohh yeah, punnu'\n",
    "    \n",
    "\n"
   ]
  },
  {
   "cell_type": "code",
   "execution_count": 8,
   "id": "artificial-frontier",
   "metadata": {},
   "outputs": [
    {
     "name": "stdout",
     "output_type": "stream",
     "text": [
      "1\n",
      "2\n",
      "3\n",
      "4\n",
      "5\n"
     ]
    }
   ],
   "source": [
    "x=[1,2,3,4,5]\n",
    "for value in x:\n",
    "    print(value)"
   ]
  },
  {
   "cell_type": "code",
   "execution_count": 4,
   "id": "awful-sweden",
   "metadata": {},
   "outputs": [],
   "source": [
    "x=[1,2,3,66,'a',56,'b',76,'c',45,56,33,4455,343,2,3,4,2,]\n",
    "for y in x:\n",
    "    if y==int() and y>6:\n",
    "        type(y)== int\n",
    "        print(y)"
   ]
  },
  {
   "cell_type": "code",
   "execution_count": null,
   "id": "respected-words",
   "metadata": {},
   "outputs": [],
   "source": []
  },
  {
   "cell_type": "code",
   "execution_count": 5,
   "id": "delayed-pierce",
   "metadata": {},
   "outputs": [
    {
     "name": "stdout",
     "output_type": "stream",
     "text": [
      "Enter any number121\n"
     ]
    }
   ],
   "source": [
    "pal= int(input(\"Enter any number \"))\n",
    "for d in pal:"
   ]
  },
  {
   "cell_type": "code",
   "execution_count": 9,
   "id": "ethical-retirement",
   "metadata": {},
   "outputs": [
    {
     "name": "stdout",
     "output_type": "stream",
     "text": [
      "Enter the first number 1234\n",
      "Enter the second number2345\n",
      "Sum of two numbers is 3579.0\n",
      "Product of the two numbers is 2893730.0\n",
      "Subtraction of the two numbers is -1111.0\n",
      "Divison of the two numbers is 0.5262260127931769\n"
     ]
    }
   ],
   "source": [
    "A = float(input(\"Enter the first number \"))\n",
    "B = float(input(\"Enter the second number\"))\n",
    "\n",
    "C = A+B\n",
    "print(\"Sum of two numbers is\", C)\n",
    "\n",
    "D = A*B\n",
    "print(\"Product of the two numbers is\", D)\n",
    "\n",
    "E= A-B\n",
    "print(\"Subtraction of the two numbers is\", E)\n",
    "\n",
    "F= A/B\n",
    "print(\"Divison of the two numbers is\", F)\n"
   ]
  },
  {
   "cell_type": "code",
   "execution_count": 12,
   "id": "brown-benchmark",
   "metadata": {},
   "outputs": [
    {
     "name": "stdout",
     "output_type": "stream",
     "text": [
      "Enter 1st side 3\n",
      "Enter 2nd side 4\n",
      "Enter 3rd side5\n",
      " Area of the triangle = 6.0\n"
     ]
    }
   ],
   "source": [
    "a= float(input(\"Enter 1st side \"))\n",
    "b= float(input(\"Enter 2nd side \"))\n",
    "c= float(input(\"Enter 3rd side\"))\n",
    "\n",
    "s= (a+b+c)/2\n",
    "\n",
    "Area= (s*(s-a)*(s-b)*(s-c))**0.5\n",
    "print(\" Area of the triangle =\", Area)\n",
    "\n",
    "               "
   ]
  },
  {
   "cell_type": "code",
   "execution_count": 20,
   "id": "legendary-skill",
   "metadata": {},
   "outputs": [
    {
     "name": "stdout",
     "output_type": "stream",
     "text": [
      "After swiping the values are  6 5\n"
     ]
    }
   ],
   "source": [
    "a=5\n",
    "b=6\n",
    "\n",
    "s=a\n",
    "a=b\n",
    "b=s\n",
    "\n",
    "print(\"After swiping the values are \", a, b)\n"
   ]
  },
  {
   "cell_type": "code",
   "execution_count": 18,
   "id": "bacterial-verse",
   "metadata": {},
   "outputs": [
    {
     "name": "stdout",
     "output_type": "stream",
     "text": [
      "After swiping the values are  5 6\n"
     ]
    }
   ],
   "source": [
    "a=5\n",
    "b=6\n",
    "\n",
    "print(\"After swiping the values are \", a, b)"
   ]
  },
  {
   "cell_type": "code",
   "execution_count": 1,
   "id": "gorgeous-eight",
   "metadata": {},
   "outputs": [
    {
     "ename": "TypeError",
     "evalue": "ord() expected a character, but string of length 3 found",
     "output_type": "error",
     "traceback": [
      "\u001b[1;31m---------------------------------------------------------------------------\u001b[0m",
      "\u001b[1;31mTypeError\u001b[0m                                 Traceback (most recent call last)",
      "\u001b[1;32m<ipython-input-1-fcfb99a2e7ea>\u001b[0m in \u001b[0;36m<module>\u001b[1;34m\u001b[0m\n\u001b[1;32m----> 1\u001b[1;33m \u001b[0mprint\u001b[0m\u001b[1;33m(\u001b[0m\u001b[0mord\u001b[0m\u001b[1;33m(\u001b[0m\u001b[1;34m'foo'\u001b[0m\u001b[1;33m)\u001b[0m\u001b[1;33m)\u001b[0m\u001b[1;33m\u001b[0m\u001b[1;33m\u001b[0m\u001b[0m\n\u001b[0m",
      "\u001b[1;31mTypeError\u001b[0m: ord() expected a character, but string of length 3 found"
     ]
    }
   ],
   "source": [
    "print(ord('foo'))"
   ]
  },
  {
   "cell_type": "code",
   "execution_count": 3,
   "id": "polished-antique",
   "metadata": {},
   "outputs": [
    {
     "name": "stdout",
     "output_type": "stream",
     "text": [
      "False\n"
     ]
    }
   ],
   "source": [
    "s = 'foo'\n",
    "t = 'bar'\n",
    "print('barf' in  (s + t))"
   ]
  },
  {
   "cell_type": "code",
   "execution_count": 4,
   "id": "chicken-boulder",
   "metadata": {},
   "outputs": [
    {
     "data": {
      "text/plain": [
       "'pq'"
      ]
     },
     "execution_count": 4,
     "metadata": {},
     "output_type": "execute_result"
    }
   ],
   "source": [
    "'p' + 'q' if '12'.isdigit() else 'r' + 's'"
   ]
  },
  {
   "cell_type": "code",
   "execution_count": 5,
   "id": "tight-infrared",
   "metadata": {},
   "outputs": [
    {
     "name": "stdout",
     "output_type": "stream",
     "text": [
      "True\n"
     ]
    }
   ],
   "source": [
    " print('hello'==\"hello\")"
   ]
  },
  {
   "cell_type": "code",
   "execution_count": 7,
   "id": "vocal-prime",
   "metadata": {},
   "outputs": [
    {
     "ename": "IndentationError",
     "evalue": "unexpected indent (<ipython-input-7-3fba4211e7ed>, line 6)",
     "output_type": "error",
     "traceback": [
      "\u001b[1;36m  File \u001b[1;32m\"<ipython-input-7-3fba4211e7ed>\"\u001b[1;36m, line \u001b[1;32m6\u001b[0m\n\u001b[1;33m    i=i+1\u001b[0m\n\u001b[1;37m    ^\u001b[0m\n\u001b[1;31mIndentationError\u001b[0m\u001b[1;31m:\u001b[0m unexpected indent\n"
     ]
    }
   ],
   "source": [
    "i = 1\n",
    "while True:\n",
    "    if i%3==0:\n",
    "        break\n",
    "print(i)\n",
    "    i=i+1"
   ]
  },
  {
   "cell_type": "code",
   "execution_count": 8,
   "id": "becoming-prairie",
   "metadata": {},
   "outputs": [
    {
     "name": "stdout",
     "output_type": "stream",
     "text": [
      "jsdvjasdvbldbvbdiuwebvudwbc\n"
     ]
    }
   ],
   "source": [
    "a= 'jsdvjasdvbldb'\n",
    "b= 'vbdiuwebvudwbc'\n",
    "c= a+b\n",
    "print(c)"
   ]
  },
  {
   "cell_type": "code",
   "execution_count": 9,
   "id": "better-simulation",
   "metadata": {},
   "outputs": [
    {
     "name": "stdout",
     "output_type": "stream",
     "text": [
      "c\n"
     ]
    }
   ],
   "source": [
    "print(chr(ord('b')+1))"
   ]
  },
  {
   "cell_type": "code",
   "execution_count": 13,
   "id": "spread-partition",
   "metadata": {},
   "outputs": [],
   "source": [
    "\n",
    "for i in range(0):\n",
    "    print(i)\n"
   ]
  },
  {
   "cell_type": "code",
   "execution_count": 14,
   "id": "statistical-reverse",
   "metadata": {},
   "outputs": [
    {
     "name": "stdout",
     "output_type": "stream",
     "text": [
      "['ab', 'cd', 'ef', 'cd', 'gh.cd']\n"
     ]
    }
   ],
   "source": [
    "print('ab,cd,ef,cd,gh.cd'.split(','))"
   ]
  },
  {
   "cell_type": "code",
   "execution_count": 15,
   "id": "dressed-water",
   "metadata": {},
   "outputs": [
    {
     "name": "stdout",
     "output_type": "stream",
     "text": [
      "[1, 2, 3, 4, 5, 6, 7, 8, 9, 10]\n"
     ]
    }
   ],
   "source": [
    "l1 = [1,3,5,7,9]\n",
    "l2 = [2,4,6,8,10]\n",
    "index = 0\n",
    "for i in range(1,11,2):\n",
    "    l1.insert(i, l2[index])\n",
    "    index += 1\n",
    "print(l1)"
   ]
  },
  {
   "cell_type": "code",
   "execution_count": 16,
   "id": "subtle-collectible",
   "metadata": {},
   "outputs": [
    {
     "name": "stdout",
     "output_type": "stream",
     "text": [
      "5\n"
     ]
    }
   ],
   "source": [
    "a, b, c = (1, 2, 3, 4, 5, 6, 7, 8, 9)[1::3]\n",
    "print(b)"
   ]
  },
  {
   "cell_type": "code",
   "execution_count": 19,
   "id": "announced-litigation",
   "metadata": {},
   "outputs": [
    {
     "name": "stdout",
     "output_type": "stream",
     "text": [
      "<class 'tuple'>\n"
     ]
    }
   ],
   "source": [
    "t = ('foo',)\n",
    "print(type(t))"
   ]
  },
  {
   "cell_type": "code",
   "execution_count": 22,
   "id": "radio-charlotte",
   "metadata": {},
   "outputs": [
    {
     "ename": "TypeError",
     "evalue": "'tuple' object does not support item assignment",
     "output_type": "error",
     "traceback": [
      "\u001b[1;31m---------------------------------------------------------------------------\u001b[0m",
      "\u001b[1;31mTypeError\u001b[0m                                 Traceback (most recent call last)",
      "\u001b[1;32m<ipython-input-22-42ffcb246d51>\u001b[0m in \u001b[0;36m<module>\u001b[1;34m\u001b[0m\n\u001b[0;32m      1\u001b[0m \u001b[0mt\u001b[0m \u001b[1;33m=\u001b[0m \u001b[1;33m(\u001b[0m\u001b[1;34m'foo'\u001b[0m\u001b[1;33m,\u001b[0m \u001b[1;34m'bar'\u001b[0m\u001b[1;33m,\u001b[0m \u001b[1;34m'baz'\u001b[0m\u001b[1;33m)\u001b[0m\u001b[1;33m\u001b[0m\u001b[1;33m\u001b[0m\u001b[0m\n\u001b[1;32m----> 2\u001b[1;33m \u001b[0mt\u001b[0m\u001b[1;33m[\u001b[0m\u001b[1;36m1\u001b[0m\u001b[1;33m:\u001b[0m\u001b[1;36m1\u001b[0m\u001b[1;33m]\u001b[0m \u001b[1;33m=\u001b[0m \u001b[1;34m'qux'\u001b[0m\u001b[1;33m\u001b[0m\u001b[1;33m\u001b[0m\u001b[0m\n\u001b[0m\u001b[0;32m      3\u001b[0m \u001b[0mprint\u001b[0m\u001b[1;33m(\u001b[0m\u001b[0mt\u001b[0m\u001b[1;33m)\u001b[0m\u001b[1;33m\u001b[0m\u001b[1;33m\u001b[0m\u001b[0m\n",
      "\u001b[1;31mTypeError\u001b[0m: 'tuple' object does not support item assignment"
     ]
    }
   ],
   "source": [
    "t = ('foo', 'bar', 'baz')\n",
    "t[1:1] = 'qux'\n",
    "print(t)"
   ]
  },
  {
   "cell_type": "code",
   "execution_count": 26,
   "id": "flush-peninsula",
   "metadata": {},
   "outputs": [
    {
     "name": "stdout",
     "output_type": "stream",
     "text": [
      "[1, 2, [], 4, 5]\n"
     ]
    }
   ],
   "source": [
    "a = [1, 2, 3, 4, 5]\n",
    "a[2] = []\n",
    "print(a)"
   ]
  },
  {
   "cell_type": "code",
   "execution_count": 27,
   "id": "personalized-boring",
   "metadata": {},
   "outputs": [
    {
     "name": "stdout",
     "output_type": "stream",
     "text": [
      "[1, 2, 3, 4, 5, 6]\n"
     ]
    }
   ],
   "source": [
    "l1 = [[1,2,3],[4,5,6]] \n",
    "l2 = []\n",
    "for list1 in l1:\n",
    "    l2.extend(list1)\n",
    "print(l2)"
   ]
  },
  {
   "cell_type": "code",
   "execution_count": 28,
   "id": "optical-tutorial",
   "metadata": {},
   "outputs": [
    {
     "name": "stdout",
     "output_type": "stream",
     "text": [
      "['quux', 'baz', 'foo']\n"
     ]
    }
   ],
   "source": [
    "a = ['foo', 'bar', 'baz', 'qux', 'quux', 'corge']\n",
    "print(a[4::-2])"
   ]
  },
  {
   "cell_type": "code",
   "execution_count": 29,
   "id": "listed-message",
   "metadata": {},
   "outputs": [
    {
     "name": "stdout",
     "output_type": "stream",
     "text": [
      "False\n"
     ]
    }
   ],
   "source": [
    "print(['a', 'b', 'c'] == ['c', 'a', 'b'] )"
   ]
  },
  {
   "cell_type": "code",
   "execution_count": 30,
   "id": "smoking-student",
   "metadata": {},
   "outputs": [
    {
     "name": "stdout",
     "output_type": "stream",
     "text": [
      "{'a': 97, 'b': 98}\n"
     ]
    }
   ],
   "source": [
    "alpha_dict ={}\n",
    "for i in range(ord('a'),ord('b')+1):\n",
    "    alpha_dict[chr(i)] = i\n",
    "print(alpha_dict)"
   ]
  },
  {
   "cell_type": "code",
   "execution_count": 31,
   "id": "fatty-politics",
   "metadata": {},
   "outputs": [
    {
     "ename": "TypeError",
     "evalue": "set expected at most 1 argument, got 3",
     "output_type": "error",
     "traceback": [
      "\u001b[1;31m---------------------------------------------------------------------------\u001b[0m",
      "\u001b[1;31mTypeError\u001b[0m                                 Traceback (most recent call last)",
      "\u001b[1;32m<ipython-input-31-101c5441a336>\u001b[0m in \u001b[0;36m<module>\u001b[1;34m\u001b[0m\n\u001b[1;32m----> 1\u001b[1;33m \u001b[0ms\u001b[0m \u001b[1;33m=\u001b[0m \u001b[0mset\u001b[0m\u001b[1;33m(\u001b[0m\u001b[1;34m'a'\u001b[0m\u001b[1;33m,\u001b[0m \u001b[1;34m'b'\u001b[0m\u001b[1;33m,\u001b[0m \u001b[1;34m'c'\u001b[0m\u001b[1;33m)\u001b[0m\u001b[1;33m\u001b[0m\u001b[1;33m\u001b[0m\u001b[0m\n\u001b[0m\u001b[0;32m      2\u001b[0m \u001b[0mprint\u001b[0m\u001b[1;33m(\u001b[0m\u001b[0mtype\u001b[0m\u001b[1;33m(\u001b[0m\u001b[0ms\u001b[0m\u001b[1;33m)\u001b[0m\u001b[1;33m)\u001b[0m\u001b[1;33m\u001b[0m\u001b[1;33m\u001b[0m\u001b[0m\n",
      "\u001b[1;31mTypeError\u001b[0m: set expected at most 1 argument, got 3"
     ]
    }
   ],
   "source": [
    "s = set('a', 'b', 'c')\n",
    "print(type(s))"
   ]
  },
  {
   "cell_type": "code",
   "execution_count": 32,
   "id": "passing-knowing",
   "metadata": {},
   "outputs": [
    {
     "ename": "TypeError",
     "evalue": "unhashable type: 'slice'",
     "output_type": "error",
     "traceback": [
      "\u001b[1;31m---------------------------------------------------------------------------\u001b[0m",
      "\u001b[1;31mTypeError\u001b[0m                                 Traceback (most recent call last)",
      "\u001b[1;32m<ipython-input-32-d0d2f4d35da9>\u001b[0m in \u001b[0;36m<module>\u001b[1;34m\u001b[0m\n\u001b[0;32m      1\u001b[0m \u001b[0md\u001b[0m \u001b[1;33m=\u001b[0m \u001b[1;33m{\u001b[0m\u001b[1;34m'foo'\u001b[0m\u001b[1;33m:\u001b[0m \u001b[1;36m100\u001b[0m\u001b[1;33m,\u001b[0m \u001b[1;34m'bar'\u001b[0m\u001b[1;33m:\u001b[0m \u001b[1;36m200\u001b[0m\u001b[1;33m,\u001b[0m \u001b[1;34m'baz'\u001b[0m\u001b[1;33m:\u001b[0m \u001b[1;36m300\u001b[0m\u001b[1;33m}\u001b[0m\u001b[1;33m\u001b[0m\u001b[1;33m\u001b[0m\u001b[0m\n\u001b[1;32m----> 2\u001b[1;33m \u001b[0mprint\u001b[0m\u001b[1;33m(\u001b[0m\u001b[0md\u001b[0m\u001b[1;33m[\u001b[0m\u001b[1;34m'bar'\u001b[0m\u001b[1;33m:\u001b[0m\u001b[1;34m'baz'\u001b[0m\u001b[1;33m]\u001b[0m\u001b[1;33m)\u001b[0m\u001b[1;33m\u001b[0m\u001b[1;33m\u001b[0m\u001b[0m\n\u001b[0m",
      "\u001b[1;31mTypeError\u001b[0m: unhashable type: 'slice'"
     ]
    }
   ],
   "source": [
    "d = {'foo': 100, 'bar': 200, 'baz': 300}\n",
    "print(d['bar':'baz'])"
   ]
  },
  {
   "cell_type": "code",
   "execution_count": 1,
   "id": "static-person",
   "metadata": {},
   "outputs": [
    {
     "name": "stdout",
     "output_type": "stream",
     "text": [
      "15\n"
     ]
    }
   ],
   "source": [
    "def outerFun(a,b):\n",
    "    def innerFun(c,d):\n",
    "        return c+d\n",
    "    return innerFun(a,b)\n",
    "    return a\n",
    "\n",
    "result = outerFun(5,10)\n",
    "print(result)"
   ]
  },
  {
   "cell_type": "code",
   "execution_count": 3,
   "id": "proved-parcel",
   "metadata": {},
   "outputs": [
    {
     "ename": "NameError",
     "evalue": "name 'num' is not defined",
     "output_type": "error",
     "traceback": [
      "\u001b[1;31m---------------------------------------------------------------------------\u001b[0m",
      "\u001b[1;31mNameError\u001b[0m                                 Traceback (most recent call last)",
      "\u001b[1;32m<ipython-input-3-d3e94f023c5c>\u001b[0m in \u001b[0;36m<module>\u001b[1;34m\u001b[0m\n\u001b[0;32m      3\u001b[0m \u001b[1;33m\u001b[0m\u001b[0m\n\u001b[0;32m      4\u001b[0m \u001b[0mfun\u001b[0m\u001b[1;33m(\u001b[0m\u001b[1;36m5\u001b[0m\u001b[1;33m)\u001b[0m\u001b[1;33m\u001b[0m\u001b[1;33m\u001b[0m\u001b[0m\n\u001b[1;32m----> 5\u001b[1;33m \u001b[0mprint\u001b[0m\u001b[1;33m(\u001b[0m\u001b[0mnum\u001b[0m\u001b[1;33m)\u001b[0m\u001b[1;33m\u001b[0m\u001b[1;33m\u001b[0m\u001b[0m\n\u001b[0m",
      "\u001b[1;31mNameError\u001b[0m: name 'num' is not defined"
     ]
    }
   ],
   "source": [
    "def fun(num):\n",
    "    return num+25\n",
    "\n",
    "fun(5)\n",
    "print(num)"
   ]
  },
  {
   "cell_type": "code",
   "execution_count": 5,
   "id": "imposed-marble",
   "metadata": {},
   "outputs": [
    {
     "name": "stdout",
     "output_type": "stream",
     "text": [
      "name\n",
      "age\n"
     ]
    }
   ],
   "source": [
    "def displayperson(**kwargs):\n",
    "    for i in kwargs:\n",
    "        print(i)\n",
    "        \n",
    "displayperson(name=\"emma\", age=\"25\")"
   ]
  },
  {
   "cell_type": "code",
   "execution_count": 7,
   "id": "selected-grass",
   "metadata": {},
   "outputs": [
    {
     "name": "stdout",
     "output_type": "stream",
     "text": [
      "rajwada wala polo\n"
     ]
    }
   ],
   "source": [
    "goa = {'tshirt':'polo sjhsdb','shorts':'fatti chaddii'}\n",
    "\n",
    "def ingoa(tshirt,shorts):\n",
    "    print(\"rajwada wala\", tshirt.split(' ')[0])\n",
    "    \n",
    "ingoa(**goa)\n"
   ]
  },
  {
   "cell_type": "code",
   "execution_count": 14,
   "id": "ahead-houston",
   "metadata": {},
   "outputs": [
    {
     "name": "stdout",
     "output_type": "stream",
     "text": [
      "None\n"
     ]
    }
   ],
   "source": [
    "x= [23,45,233,565,2246,2435,66854,33467,24465,1]\n",
    "y= x.sort()\n",
    "print(y)"
   ]
  },
  {
   "cell_type": "code",
   "execution_count": 9,
   "id": "boring-rochester",
   "metadata": {},
   "outputs": [
    {
     "ename": "UnboundLocalError",
     "evalue": "local variable 'x' referenced before assignment",
     "output_type": "error",
     "traceback": [
      "\u001b[1;31m---------------------------------------------------------------------------\u001b[0m",
      "\u001b[1;31mUnboundLocalError\u001b[0m                         Traceback (most recent call last)",
      "\u001b[1;32m<ipython-input-9-ea133dc24023>\u001b[0m in \u001b[0;36m<module>\u001b[1;34m\u001b[0m\n\u001b[0;32m      4\u001b[0m     \u001b[0mprint\u001b[0m\u001b[1;33m(\u001b[0m\u001b[0mx\u001b[0m\u001b[1;33m)\u001b[0m\u001b[1;33m\u001b[0m\u001b[1;33m\u001b[0m\u001b[0m\n\u001b[0;32m      5\u001b[0m \u001b[1;33m\u001b[0m\u001b[0m\n\u001b[1;32m----> 6\u001b[1;33m \u001b[0mmyfun\u001b[0m\u001b[1;33m(\u001b[0m\u001b[1;33m)\u001b[0m\u001b[1;33m\u001b[0m\u001b[1;33m\u001b[0m\u001b[0m\n\u001b[0m\u001b[0;32m      7\u001b[0m \u001b[0mprint\u001b[0m\u001b[1;33m(\u001b[0m\u001b[0mx\u001b[0m\u001b[1;33m)\u001b[0m\u001b[1;33m\u001b[0m\u001b[1;33m\u001b[0m\u001b[0m\n",
      "\u001b[1;32m<ipython-input-9-ea133dc24023>\u001b[0m in \u001b[0;36mmyfun\u001b[1;34m()\u001b[0m\n\u001b[0;32m      1\u001b[0m \u001b[0mx\u001b[0m\u001b[1;33m=\u001b[0m \u001b[1;36m75\u001b[0m\u001b[1;33m\u001b[0m\u001b[1;33m\u001b[0m\u001b[0m\n\u001b[0;32m      2\u001b[0m \u001b[1;32mdef\u001b[0m \u001b[0mmyfun\u001b[0m\u001b[1;33m(\u001b[0m\u001b[1;33m)\u001b[0m\u001b[1;33m:\u001b[0m\u001b[1;33m\u001b[0m\u001b[1;33m\u001b[0m\u001b[0m\n\u001b[1;32m----> 3\u001b[1;33m     \u001b[0mx\u001b[0m\u001b[1;33m=\u001b[0m\u001b[0mx\u001b[0m\u001b[1;33m+\u001b[0m\u001b[1;36m1\u001b[0m\u001b[1;33m\u001b[0m\u001b[1;33m\u001b[0m\u001b[0m\n\u001b[0m\u001b[0;32m      4\u001b[0m     \u001b[0mprint\u001b[0m\u001b[1;33m(\u001b[0m\u001b[0mx\u001b[0m\u001b[1;33m)\u001b[0m\u001b[1;33m\u001b[0m\u001b[1;33m\u001b[0m\u001b[0m\n\u001b[0;32m      5\u001b[0m \u001b[1;33m\u001b[0m\u001b[0m\n",
      "\u001b[1;31mUnboundLocalError\u001b[0m: local variable 'x' referenced before assignment"
     ]
    }
   ],
   "source": [
    "x= 75\n",
    "def myfun():\n",
    "    x=x+1\n",
    "    print(x)\n",
    "    \n",
    "myfun()\n",
    "print(x)"
   ]
  },
  {
   "cell_type": "code",
   "execution_count": 13,
   "id": "double-growth",
   "metadata": {},
   "outputs": [
    {
     "name": "stdout",
     "output_type": "stream",
     "text": [
      "sad\n"
     ]
    }
   ],
   "source": [
    "x = 'happy'\n",
    "def asgdy(a):\n",
    "    global x\n",
    "    x='sad'\n",
    "    \n",
    "asgdy('ajhs')\n",
    "print(x)"
   ]
  },
  {
   "cell_type": "code",
   "execution_count": 1,
   "id": "dynamic-console",
   "metadata": {},
   "outputs": [],
   "source": [
    "fp = open('haripyfile.txt','w+')\n",
    "fp.write('jsdbvojwergljsndv sjdgskdvn sofnhpiwegn')\n",
    "fp.close()"
   ]
  },
  {
   "cell_type": "code",
   "execution_count": 12,
   "id": "grateful-lobby",
   "metadata": {},
   "outputs": [
    {
     "name": "stdout",
     "output_type": "stream",
     "text": [
      "Hey, My name is Harikrishanan R Kurup\n",
      "I am a professional Data Analyst.\n",
      "I earn lakhs per month as a freelancer."
     ]
    }
   ],
   "source": [
    "f = open('google.txt')\n",
    "#x = f.read()\n",
    "for y in f:\n",
    "    print(y, end='')\n",
    "#print(x)"
   ]
  },
  {
   "cell_type": "code",
   "execution_count": 3,
   "id": "respiratory-frontier",
   "metadata": {},
   "outputs": [],
   "source": [
    "f.close()"
   ]
  },
  {
   "cell_type": "code",
   "execution_count": 19,
   "id": "internal-genius",
   "metadata": {},
   "outputs": [
    {
     "name": "stdout",
     "output_type": "stream",
     "text": [
      " Hello World\n"
     ]
    }
   ],
   "source": [
    "import re\n",
    "\n",
    "string_given = 'a for apple nd ends with z'\n",
    "regx = '^[a].*[z]$'\n",
    "\n",
    "#if re.findall(regx, string_given):\n",
    "#for i in string_given:\n",
    "if re.findall(regx, string_given):\n",
    "    print(' Hello World')\n",
    "else:\n",
    "    print(' Striing loda h')"
   ]
  },
  {
   "cell_type": "code",
   "execution_count": 39,
   "id": "forward-split",
   "metadata": {},
   "outputs": [
    {
     "name": "stdout",
     "output_type": "stream",
     "text": [
      "<re.Match object; span=(0, 76), match='123abc123456abc123ABC  ijdvguwerh qjswfbfiuwe jis>\n"
     ]
    }
   ],
   "source": [
    "import re\n",
    "test = '123abc123456abc123ABC  ijdvguwerh qjswfbfiuwe jisbciuwgei ajsbcibe nhwdj.com'\n",
    "\n",
    "print(re.search('.*', test))\n",
    "#regx = re.finditer('.', test)\n",
    "\n",
    "#for i in regx:\n",
    "    #print(i)"
   ]
  },
  {
   "cell_type": "code",
   "execution_count": 28,
   "id": "legal-tunnel",
   "metadata": {},
   "outputs": [
    {
     "name": "stdout",
     "output_type": "stream",
     "text": [
      "23abc\n"
     ]
    }
   ],
   "source": [
    "print(test[1:6])"
   ]
  },
  {
   "cell_type": "code",
   "execution_count": 46,
   "id": "southern-worth",
   "metadata": {},
   "outputs": [
    {
     "data": {
      "text/plain": [
       "(('python', 'java', 'c'), 'okay')"
      ]
     },
     "execution_count": 46,
     "metadata": {},
     "output_type": "execute_result"
    }
   ],
   "source": [
    "def fun1(string1):\n",
    "    return(string1,'okay')\n",
    "\n",
    "lists = ('python','java','c')\n",
    "\n",
    "#x = list(map(fun1,lists))\n",
    "#print(x)\n",
    "\n",
    "fun1(lists)"
   ]
  },
  {
   "cell_type": "code",
   "execution_count": 49,
   "id": "demonstrated-collins",
   "metadata": {},
   "outputs": [
    {
     "name": "stdout",
     "output_type": "stream",
     "text": [
      "[6, 4, 1]\n"
     ]
    }
   ],
   "source": [
    "def myfun(n):\n",
    "    return(len(n))\n",
    "\n",
    "lists = ('python','java','c')\n",
    "\n",
    "x= list(map(myfun,lists))\n",
    "print(x)"
   ]
  },
  {
   "cell_type": "code",
   "execution_count": 52,
   "id": "taken-literacy",
   "metadata": {},
   "outputs": [],
   "source": [
    "def fun1(string1):\n",
    "    return(string1)"
   ]
  },
  {
   "cell_type": "code",
   "execution_count": 25,
   "id": "egyptian-warner",
   "metadata": {},
   "outputs": [
    {
     "ename": "NameError",
     "evalue": "name 'returni' is not defined",
     "output_type": "error",
     "traceback": [
      "\u001b[1;31m---------------------------------------------------------------------------\u001b[0m",
      "\u001b[1;31mNameError\u001b[0m                                 Traceback (most recent call last)",
      "\u001b[1;32m<ipython-input-25-2a4ecd86f952>\u001b[0m in \u001b[0;36m<module>\u001b[1;34m\u001b[0m\n\u001b[0;32m      4\u001b[0m         \u001b[1;31m#print(i)\u001b[0m\u001b[1;33m\u001b[0m\u001b[1;33m\u001b[0m\u001b[1;33m\u001b[0m\u001b[0m\n\u001b[0;32m      5\u001b[0m \u001b[0mlists\u001b[0m \u001b[1;33m=\u001b[0m \u001b[1;33m[\u001b[0m\u001b[1;36m1\u001b[0m\u001b[1;33m,\u001b[0m\u001b[1;36m2\u001b[0m\u001b[1;33m,\u001b[0m\u001b[1;36m3\u001b[0m\u001b[1;33m,\u001b[0m\u001b[1;36m4\u001b[0m\u001b[1;33m]\u001b[0m\u001b[1;33m\u001b[0m\u001b[1;33m\u001b[0m\u001b[0m\n\u001b[1;32m----> 6\u001b[1;33m \u001b[0msqr\u001b[0m\u001b[1;33m(\u001b[0m\u001b[0mlists\u001b[0m\u001b[1;33m)\u001b[0m\u001b[1;33m\u001b[0m\u001b[1;33m\u001b[0m\u001b[0m\n\u001b[0m",
      "\u001b[1;32m<ipython-input-25-2a4ecd86f952>\u001b[0m in \u001b[0;36msqr\u001b[1;34m(args)\u001b[0m\n\u001b[0;32m      1\u001b[0m \u001b[1;32mdef\u001b[0m \u001b[0msqr\u001b[0m\u001b[1;33m(\u001b[0m\u001b[0margs\u001b[0m\u001b[1;33m)\u001b[0m\u001b[1;33m:\u001b[0m\u001b[1;33m\u001b[0m\u001b[1;33m\u001b[0m\u001b[0m\n\u001b[0;32m      2\u001b[0m     \u001b[1;32mfor\u001b[0m \u001b[0mi\u001b[0m \u001b[1;32min\u001b[0m \u001b[0margs\u001b[0m\u001b[1;33m:\u001b[0m\u001b[1;33m\u001b[0m\u001b[1;33m\u001b[0m\u001b[0m\n\u001b[1;32m----> 3\u001b[1;33m         \u001b[0mreturni\u001b[0m\u001b[1;33m**\u001b[0m\u001b[1;36m2\u001b[0m\u001b[1;33m\u001b[0m\u001b[1;33m\u001b[0m\u001b[0m\n\u001b[0m\u001b[0;32m      4\u001b[0m         \u001b[1;31m#print(i)\u001b[0m\u001b[1;33m\u001b[0m\u001b[1;33m\u001b[0m\u001b[1;33m\u001b[0m\u001b[0m\n\u001b[0;32m      5\u001b[0m \u001b[0mlists\u001b[0m \u001b[1;33m=\u001b[0m \u001b[1;33m[\u001b[0m\u001b[1;36m1\u001b[0m\u001b[1;33m,\u001b[0m\u001b[1;36m2\u001b[0m\u001b[1;33m,\u001b[0m\u001b[1;36m3\u001b[0m\u001b[1;33m,\u001b[0m\u001b[1;36m4\u001b[0m\u001b[1;33m]\u001b[0m\u001b[1;33m\u001b[0m\u001b[1;33m\u001b[0m\u001b[0m\n",
      "\u001b[1;31mNameError\u001b[0m: name 'returni' is not defined"
     ]
    }
   ],
   "source": [
    "def sqr(args):\n",
    "    for i in args:\n",
    "        returni**2\n",
    "        #print(i)\n",
    "lists = [1,2,3,4]\n",
    "sqr(lists)"
   ]
  },
  {
   "cell_type": "code",
   "execution_count": 9,
   "id": "severe-operator",
   "metadata": {},
   "outputs": [],
   "source": [
    "def fun1(string1):\n",
    "    for char in string1:\n",
    "        if char in 'aeiou':\n",
    "            return True\n",
    "        else:\n",
    "            return False"
   ]
  },
  {
   "cell_type": "code",
   "execution_count": 10,
   "id": "common-venue",
   "metadata": {},
   "outputs": [
    {
     "data": {
      "text/plain": [
       "False"
      ]
     },
     "execution_count": 10,
     "metadata": {},
     "output_type": "execute_result"
    }
   ],
   "source": [
    "fun1('Python')"
   ]
  },
  {
   "cell_type": "code",
   "execution_count": 13,
   "id": "outside-stake",
   "metadata": {},
   "outputs": [
    {
     "ename": "TypeError",
     "evalue": "'in <string>' requires string as left operand, not list",
     "output_type": "error",
     "traceback": [
      "\u001b[1;31m---------------------------------------------------------------------------\u001b[0m",
      "\u001b[1;31mTypeError\u001b[0m                                 Traceback (most recent call last)",
      "\u001b[1;32m<ipython-input-13-351e387830d7>\u001b[0m in \u001b[0;36m<module>\u001b[1;34m\u001b[0m\n\u001b[0;32m      1\u001b[0m \u001b[0mf\u001b[0m \u001b[1;33m=\u001b[0m \u001b[1;32mlambda\u001b[0m \u001b[0mstring1\u001b[0m\u001b[1;33m:\u001b[0m \u001b[1;33m[\u001b[0m\u001b[1;34m'a'\u001b[0m \u001b[1;32mor\u001b[0m \u001b[1;34m'e'\u001b[0m \u001b[1;32mor\u001b[0m \u001b[1;34m'i'\u001b[0m \u001b[1;32mor\u001b[0m \u001b[1;34m'o'\u001b[0m \u001b[1;32mor\u001b[0m \u001b[1;34m'u'\u001b[0m\u001b[1;33m]\u001b[0m \u001b[1;32min\u001b[0m \u001b[0mstring1\u001b[0m\u001b[1;33m\u001b[0m\u001b[1;33m\u001b[0m\u001b[0m\n\u001b[0;32m      2\u001b[0m \u001b[1;33m\u001b[0m\u001b[0m\n\u001b[1;32m----> 3\u001b[1;33m \u001b[0mf\u001b[0m\u001b[1;33m(\u001b[0m\u001b[1;34m'python'\u001b[0m\u001b[1;33m)\u001b[0m\u001b[1;33m\u001b[0m\u001b[1;33m\u001b[0m\u001b[0m\n\u001b[0m",
      "\u001b[1;32m<ipython-input-13-351e387830d7>\u001b[0m in \u001b[0;36m<lambda>\u001b[1;34m(string1)\u001b[0m\n\u001b[1;32m----> 1\u001b[1;33m \u001b[0mf\u001b[0m \u001b[1;33m=\u001b[0m \u001b[1;32mlambda\u001b[0m \u001b[0mstring1\u001b[0m\u001b[1;33m:\u001b[0m \u001b[1;33m[\u001b[0m\u001b[1;34m'a'\u001b[0m \u001b[1;32mor\u001b[0m \u001b[1;34m'e'\u001b[0m \u001b[1;32mor\u001b[0m \u001b[1;34m'i'\u001b[0m \u001b[1;32mor\u001b[0m \u001b[1;34m'o'\u001b[0m \u001b[1;32mor\u001b[0m \u001b[1;34m'u'\u001b[0m\u001b[1;33m]\u001b[0m \u001b[1;32min\u001b[0m \u001b[0mstring1\u001b[0m\u001b[1;33m\u001b[0m\u001b[1;33m\u001b[0m\u001b[0m\n\u001b[0m\u001b[0;32m      2\u001b[0m \u001b[1;33m\u001b[0m\u001b[0m\n\u001b[0;32m      3\u001b[0m \u001b[0mf\u001b[0m\u001b[1;33m(\u001b[0m\u001b[1;34m'python'\u001b[0m\u001b[1;33m)\u001b[0m\u001b[1;33m\u001b[0m\u001b[1;33m\u001b[0m\u001b[0m\n",
      "\u001b[1;31mTypeError\u001b[0m: 'in <string>' requires string as left operand, not list"
     ]
    }
   ],
   "source": [
    "f = lambda string1: ['a' or 'e' or 'i' or 'o' or 'u'] in string1\n",
    "\n",
    "f('python')"
   ]
  },
  {
   "cell_type": "code",
   "execution_count": 32,
   "id": "partial-desktop",
   "metadata": {},
   "outputs": [
    {
     "name": "stdout",
     "output_type": "stream",
     "text": [
      "[5, 9, 5, 6, 4]\n"
     ]
    }
   ],
   "source": [
    "x = ['apple','pineapple','mango','grapws','momo']\n",
    "\n",
    "#[y for i in x y=len(i)]\n",
    "print([len(i) for i in x])"
   ]
  },
  {
   "cell_type": "code",
   "execution_count": 5,
   "id": "original-digit",
   "metadata": {},
   "outputs": [
    {
     "ename": "NameError",
     "evalue": "name 'i' is not defined",
     "output_type": "error",
     "traceback": [
      "\u001b[1;31m---------------------------------------------------------------------------\u001b[0m",
      "\u001b[1;31mNameError\u001b[0m                                 Traceback (most recent call last)",
      "\u001b[1;32m<ipython-input-5-9c54c44e18e1>\u001b[0m in \u001b[0;36m<module>\u001b[1;34m\u001b[0m\n\u001b[0;32m      3\u001b[0m \u001b[1;33m\u001b[0m\u001b[0m\n\u001b[0;32m      4\u001b[0m \u001b[1;33m[\u001b[0m\u001b[0mlen\u001b[0m\u001b[1;33m(\u001b[0m\u001b[0mi\u001b[0m\u001b[1;33m)\u001b[0m \u001b[1;32mfor\u001b[0m \u001b[0mi\u001b[0m \u001b[1;32min\u001b[0m \u001b[0ml1\u001b[0m\u001b[1;33m]\u001b[0m\u001b[1;33m\u001b[0m\u001b[1;33m\u001b[0m\u001b[0m\n\u001b[1;32m----> 5\u001b[1;33m \u001b[0mlength_list\u001b[0m\u001b[1;33m.\u001b[0m\u001b[0mappend\u001b[0m\u001b[1;33m(\u001b[0m\u001b[0mlen\u001b[0m\u001b[1;33m(\u001b[0m\u001b[0mi\u001b[0m\u001b[1;33m)\u001b[0m\u001b[1;33m)\u001b[0m\u001b[1;33m\u001b[0m\u001b[1;33m\u001b[0m\u001b[0m\n\u001b[0m\u001b[0;32m      6\u001b[0m \u001b[0mprint\u001b[0m\u001b[1;33m(\u001b[0m\u001b[0mlength_list\u001b[0m\u001b[1;33m)\u001b[0m\u001b[1;33m\u001b[0m\u001b[1;33m\u001b[0m\u001b[0m\n\u001b[0;32m      7\u001b[0m \u001b[1;31m#print(dict(zip(l1,length_list)))\u001b[0m\u001b[1;33m\u001b[0m\u001b[1;33m\u001b[0m\u001b[1;33m\u001b[0m\u001b[0m\n",
      "\u001b[1;31mNameError\u001b[0m: name 'i' is not defined"
     ]
    }
   ],
   "source": [
    "l1 = ['python','java','perl','momo']\n",
    "length_list= []\n",
    "\n",
    "[len(i) for i in l1]\n",
    "length_list.append(len(i))\n",
    "print(length_list)\n",
    "#print(dict(zip(l1,length_list)))"
   ]
  },
  {
   "cell_type": "code",
   "execution_count": 7,
   "id": "nonprofit-steal",
   "metadata": {},
   "outputs": [
    {
     "name": "stdout",
     "output_type": "stream",
     "text": [
      "{'python': 6, 'java': 4, 'perl': 4, 'momo': 4}\n"
     ]
    }
   ],
   "source": [
    "l1 = ['python','java','perl','momo']\n",
    "length_list= []\n",
    "\n",
    "[length_list.append(len(i)) for i in l1]\n",
    "#length_list.append(len(i))\n",
    "#print(length_list)\n",
    "print(dict(zip(l1,length_list)))"
   ]
  },
  {
   "cell_type": "code",
   "execution_count": 22,
   "id": "opponent-night",
   "metadata": {},
   "outputs": [
    {
     "name": "stdout",
     "output_type": "stream",
     "text": [
      "None\n",
      "<re.Match object; span=(0, 7), match='mango67'>\n",
      "None\n",
      "<re.Match object; span=(0, 11), match='muskmelon78'>\n"
     ]
    }
   ],
   "source": [
    "import re\n",
    "\n",
    "given_list = ['ampple45','mango67','orange90','muskmelon78']\n",
    "regex = '^(m).*\\d{2}$'\n",
    "\n",
    "for word in given_list:\n",
    "    print(re.search(regex,word))\n"
   ]
  },
  {
   "cell_type": "code",
   "execution_count": 36,
   "id": "loaded-beaver",
   "metadata": {},
   "outputs": [
    {
     "name": "stdout",
     "output_type": "stream",
     "text": [
      "[]\n",
      "['mango67']\n",
      "[]\n",
      "['muskmelon78']\n"
     ]
    }
   ],
   "source": [
    "import re\n",
    "\n",
    "given_list = ['apple45','mango67','orange90','muskmelon78']\n",
    "regex = '^m.*\\d{2}$'\n",
    "\n",
    "for word in given_list:\n",
    "    print(list(re.findall(regex,word)))"
   ]
  },
  {
   "cell_type": "code",
   "execution_count": 26,
   "id": "aboriginal-regulation",
   "metadata": {},
   "outputs": [
    {
     "name": "stdout",
     "output_type": "stream",
     "text": [
      "['mango67', 'muskmelon78']\n"
     ]
    }
   ],
   "source": [
    "import re\n",
    "\n",
    "given_list = ['ampple45','mango67','orange90','muskmelon78']\n",
    "regex = '^(m).*\\d{2}$'\n",
    "\n",
    "f1 = [i for i in given_list if re.findall(regex,i)]\n",
    "print(f1)"
   ]
  },
  {
   "cell_type": "code",
   "execution_count": 33,
   "id": "brutal-thought",
   "metadata": {},
   "outputs": [
    {
     "name": "stdout",
     "output_type": "stream",
     "text": [
      "[<class 'str'>, <class 'str'>, <class 'str'>, <class 'str'>, <class 'str'>, <class 'str'>, <class 'str'>, <class 'str'>]\n"
     ]
    }
   ],
   "source": [
    "l1 = [23,43,4,3,4,'kjdfui','bhdvfiw','jsaj']\n",
    "l2 = [type(str(i)) for i in l1 ]\n",
    "print(l2)"
   ]
  },
  {
   "cell_type": "code",
   "execution_count": null,
   "id": "miniature-crisis",
   "metadata": {},
   "outputs": [],
   "source": []
  },
  {
   "cell_type": "code",
   "execution_count": 2,
   "id": "known-transcript",
   "metadata": {},
   "outputs": [
    {
     "name": "stdout",
     "output_type": "stream",
     "text": [
      "15\n"
     ]
    }
   ],
   "source": [
    "def f1():\n",
    "    x = 15\n",
    "    print(x)\n",
    "    \n",
    "x = 12\n",
    "f1()"
   ]
  },
  {
   "cell_type": "code",
   "execution_count": 6,
   "id": "representative-producer",
   "metadata": {},
   "outputs": [
    {
     "name": "stdout",
     "output_type": "stream",
     "text": [
      "ab\n",
      "bc\n"
     ]
    }
   ],
   "source": [
    "x = ['ab','bc']\n",
    "\n",
    "for i in x:\n",
    "    i.upper()\n",
    "    print(i)"
   ]
  },
  {
   "cell_type": "code",
   "execution_count": 7,
   "id": "deluxe-medicine",
   "metadata": {},
   "outputs": [
    {
     "name": "stdout",
     "output_type": "stream",
     "text": [
      "2\n"
     ]
    }
   ],
   "source": [
    "print(\"xyyzxyzxzxyy\".count('yy'))"
   ]
  },
  {
   "cell_type": "code",
   "execution_count": 9,
   "id": "living-apple",
   "metadata": {},
   "outputs": [
    {
     "name": "stdout",
     "output_type": "stream",
     "text": [
      "2\n"
     ]
    }
   ],
   "source": [
    "func = lambda x: x\n",
    "print(func(2))"
   ]
  },
  {
   "cell_type": "code",
   "execution_count": 10,
   "id": "aggregate-telling",
   "metadata": {},
   "outputs": [
    {
     "ename": "SyntaxError",
     "evalue": "invalid syntax (<ipython-input-10-07960302d2ff>, line 4)",
     "output_type": "error",
     "traceback": [
      "\u001b[1;36m  File \u001b[1;32m\"<ipython-input-10-07960302d2ff>\"\u001b[1;36m, line \u001b[1;32m4\u001b[0m\n\u001b[1;33m    regex = [a]b{3}+\u001b[0m\n\u001b[1;37m               ^\u001b[0m\n\u001b[1;31mSyntaxError\u001b[0m\u001b[1;31m:\u001b[0m invalid syntax\n"
     ]
    }
   ],
   "source": [
    "input_string = input()\n",
    "import re\n",
    "# Write your code here\n",
    "regex = [a]b{3}+\n",
    "\n",
    "f = re.findall(regex,input_string)\n",
    "print(f)"
   ]
  },
  {
   "cell_type": "code",
   "execution_count": 1,
   "id": "imported-bahamas",
   "metadata": {},
   "outputs": [],
   "source": [
    "class Car:\n",
    "    def __init__(self,brand,model,price,color,engine):\n",
    "        self.brand = brand\n",
    "        self.model = model\n",
    "        self.price = price\n",
    "        self.color = color\n",
    "        self.engine= engine\n",
    "        \n",
    "    def car_details(self):\n",
    "        print('Brand of the car is ',self.brand)\n",
    "        print('Model of the car is ',self.model)\n",
    "        print('Price of the car is ',self.price)\n",
    "        print('Color of the car is ',self.color)\n",
    "        print('Engine of the car is ',self.engine)\n",
    "        \n",
    "    "
   ]
  },
  {
   "cell_type": "code",
   "execution_count": 6,
   "id": "accepting-meaning",
   "metadata": {},
   "outputs": [
    {
     "name": "stdout",
     "output_type": "stream",
     "text": [
      "Brand of the car is  Bentley\n",
      "Model of the car is  Continental\n",
      "Price of the car is  500000\n",
      "Color of the car is  Black\n",
      "Engine of the car is  V12\n"
     ]
    }
   ],
   "source": [
    "Haris_car = Car('Bentley','Continental',500000,'Black','V12')\n",
    "Haris_car.car_details()"
   ]
  },
  {
   "cell_type": "code",
   "execution_count": 3,
   "id": "located-privacy",
   "metadata": {},
   "outputs": [
    {
     "name": "stdout",
     "output_type": "stream",
     "text": [
      "<class '__main__.Car'>\n"
     ]
    }
   ],
   "source": [
    "print(type(c1))"
   ]
  },
  {
   "cell_type": "code",
   "execution_count": 4,
   "id": "otherwise-freeware",
   "metadata": {},
   "outputs": [
    {
     "data": {
      "text/plain": [
       "'Black'"
      ]
     },
     "execution_count": 4,
     "metadata": {},
     "output_type": "execute_result"
    }
   ],
   "source": [
    "c1.color"
   ]
  },
  {
   "cell_type": "code",
   "execution_count": 5,
   "id": "working-blake",
   "metadata": {},
   "outputs": [
    {
     "data": {
      "text/plain": [
       "'V12'"
      ]
     },
     "execution_count": 5,
     "metadata": {},
     "output_type": "execute_result"
    }
   ],
   "source": [
    "c1.engine"
   ]
  },
  {
   "cell_type": "code",
   "execution_count": null,
   "id": "revised-agency",
   "metadata": {},
   "outputs": [],
   "source": []
  }
 ],
 "metadata": {
  "kernelspec": {
   "display_name": "Python 3",
   "language": "python",
   "name": "python3"
  },
  "language_info": {
   "codemirror_mode": {
    "name": "ipython",
    "version": 3
   },
   "file_extension": ".py",
   "mimetype": "text/x-python",
   "name": "python",
   "nbconvert_exporter": "python",
   "pygments_lexer": "ipython3",
   "version": "3.9.2"
  }
 },
 "nbformat": 4,
 "nbformat_minor": 5
}
